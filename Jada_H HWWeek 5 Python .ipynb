{
 "cells": [
  {
   "cell_type": "markdown",
   "metadata": {},
   "source": [
    "1. an open-source Python package is most widely used for data science/data analysis and machine learning tasks\n",
    "\n",
    "2. series and data frames\n",
    "\n",
    "3. Data Cleansing, Data Normalization, Data visualization, Data inspection\n",
    "\n",
    "4. equals true \n",
    "\n",
    "5. data file composed of spreadsheets\n",
    "\n",
    "6. null values\n"
   ]
  },
  {
   "cell_type": "code",
   "execution_count": 67,
   "metadata": {},
   "outputs": [],
   "source": [
    "import numpy as np\n",
    "import pandas as pd\n",
    "import copy\n",
    "\n"
   ]
  },
  {
   "cell_type": "code",
   "execution_count": 78,
   "metadata": {},
   "outputs": [
    {
     "name": "stdout",
     "output_type": "stream",
     "text": [
      "[[ 1  2  3]\n",
      " [ 6  7  8]\n",
      " [ 4  5  9]\n",
      " [ 8 10 11]]\n"
     ]
    }
   ],
   "source": [
    "7. \n",
    "arr1 = np.array([[1, 3, 2], [6, 7, 8], [4, 5, 9], [8, 10, 11], ])\n",
    "print(np.sort(arr1))\n",
    "arr1 = np.reshape(arr1,(2,3,2))\n",
    "\n",
    "\n",
    "\n"
   ]
  },
  {
   "cell_type": "code",
   "execution_count": 27,
   "metadata": {},
   "outputs": [
    {
     "data": {
      "text/plain": [
       "array([ 0.        ,  0.40816327,  0.81632653,  1.2244898 ,  1.63265306,\n",
       "        2.04081633,  2.44897959,  2.85714286,  3.26530612,  3.67346939,\n",
       "        4.08163265,  4.48979592,  4.89795918,  5.30612245,  5.71428571,\n",
       "        6.12244898,  6.53061224,  6.93877551,  7.34693878,  7.75510204,\n",
       "        8.16326531,  8.57142857,  8.97959184,  9.3877551 ,  9.79591837,\n",
       "       10.20408163, 10.6122449 , 11.02040816, 11.42857143, 11.83673469,\n",
       "       12.24489796, 12.65306122, 13.06122449, 13.46938776, 13.87755102,\n",
       "       14.28571429, 14.69387755, 15.10204082, 15.51020408, 15.91836735,\n",
       "       16.32653061, 16.73469388, 17.14285714, 17.55102041, 17.95918367,\n",
       "       18.36734694, 18.7755102 , 19.18367347, 19.59183673, 20.        ])"
      ]
     },
     "execution_count": 27,
     "metadata": {},
     "output_type": "execute_result"
    }
   ],
   "source": [
    "8.\n",
    "np.linspace(0, 20)\n"
   ]
  },
  {
   "cell_type": "code",
   "execution_count": 28,
   "metadata": {},
   "outputs": [],
   "source": [
    "import copy \n",
    "\n"
   ]
  },
  {
   "cell_type": "code",
   "execution_count": 31,
   "metadata": {},
   "outputs": [
    {
     "name": "stdout",
     "output_type": "stream",
     "text": [
      "[0.0, 0.40816327, 0.81632653, 1.2244898, 1.63265306, 2.04081633, 2.44897959, 2.85714286, 3.26530612, 3.67346939, 4.08163265, 4.48979592, 4.89795918, 5.30612245, 5.71428571, 6.12244898, 6.53061224, 6.93877551, 7.34693878, 7.75510204, 8.16326531, 8.57142857, 8.97959184, 9.3877551, 9.79591837, 10.20408163, 10.6122449, 11.02040816, 11.42857143, 11.83673469, 12.24489796, 12.65306122, 13.06122449, 13.46938776, 13.87755102, 14.28571429, 14.69387755, 15.10204082, 15.51020408, 15.91836735, 16.32653061, 16.73469388, 17.14285714, 17.55102041, 17.95918367, 18.36734694, 18.7755102, 19.18367347, 19.59183673, 20.0]\n"
     ]
    }
   ],
   "source": [
    "9. \n",
    "array2 = [ 0.        ,  0.40816327,  0.81632653,  1.2244898 ,  1.63265306,\n",
    "        2.04081633,  2.44897959,  2.85714286,  3.26530612,  3.67346939,\n",
    "        4.08163265,  4.48979592,  4.89795918,  5.30612245,  5.71428571,\n",
    "        6.12244898,  6.53061224,  6.93877551,  7.34693878,  7.75510204,\n",
    "        8.16326531,  8.57142857,  8.97959184,  9.3877551 ,  9.79591837,\n",
    "       10.20408163, 10.6122449 , 11.02040816, 11.42857143, 11.83673469,\n",
    "       12.24489796, 12.65306122, 13.06122449, 13.46938776, 13.87755102,\n",
    "       14.28571429, 14.69387755, 15.10204082, 15.51020408, 15.91836735,\n",
    "       16.32653061, 16.73469388, 17.14285714, 17.55102041, 17.95918367,\n",
    "       18.36734694, 18.7755102 , 19.18367347, 19.59183673, 20.        ]\n",
    "array3 = copy.deepcopy(array2)\n",
    "print(array3)"
   ]
  },
  {
   "cell_type": "code",
   "execution_count": 106,
   "metadata": {},
   "outputs": [],
   "source": [
    "10.\n",
    "arraya = np.array([[25, 16]])\n",
    "arrayb = np.array([[11,2],\n",
    "                    [13, 4]])\n",
    "arrayc = np.array([[7, 81],\n",
    "                    [5, 6], \n",
    "                    [11, 12]])\n"
   ]
  },
  {
   "cell_type": "code",
   "execution_count": 107,
   "metadata": {},
   "outputs": [],
   "source": [
    "Newarray = np.concatenate((arraya, arrayb, arrayc))\n"
   ]
  },
  {
   "cell_type": "code",
   "execution_count": 71,
   "metadata": {},
   "outputs": [
    {
     "name": "stdout",
     "output_type": "stream",
     "text": [
      "[[16 25]\n",
      " [ 2 11]\n",
      " [ 4 13]\n",
      " [ 7 81]\n",
      " [ 5  6]\n",
      " [11 12]]\n"
     ]
    }
   ],
   "source": [
    "11.\n",
    "print(np.sort(Newarray))\n"
   ]
  },
  {
   "cell_type": "code",
   "execution_count": 113,
   "metadata": {},
   "outputs": [
    {
     "name": "stdout",
     "output_type": "stream",
     "text": [
      "[16, 25], [2, 11] [[16, 25], [2, 11], [4, 13], [7, 81], [5, 6], [11, 12]]\n",
      "[4, 13], [7, 81] [[16, 25], [2, 11], [4, 13], [7, 81], [5, 6], [11, 12]]\n",
      "[5, 6] [[16, 25], [2, 11], [4, 13], [7, 81], [5, 6], [11, 12]]\n",
      "[11, 12] [[16, 25], [2, 11], [4, 13], [7, 81], [5, 6], [11, 12]]\n"
     ]
    }
   ],
   "source": [
    "12.\n",
    "\n",
    "reShapedArrays = ([[16, 25],\n",
    " [2, 11],\n",
    " [4, 13],\n",
    " [7, 81],\n",
    " [5,  6],\n",
    " [11, 12]])\n",
    "a = reShapedArrays\n",
    "print(\"[16, 25], [2, 11]\", a)\n",
    "b = reShapedArrays\n",
    "print(\"[4, 13], [7, 81]\", b )\n",
    "c = reShapedArrays\n",
    "print(\"[5, 6]\", c)\n",
    "d = reShapedArrays\n",
    "print(\"[11, 12]\", d )\n",
    "\n"
   ]
  },
  {
   "cell_type": "code",
   "execution_count": 47,
   "metadata": {},
   "outputs": [],
   "source": [
    "13.\n",
    "one = ([10, 11, 12, 13, 14, 15, 16, 17])\n",
    "two = ([20, 21, 22, 23, 24, 25, 26, 27])\n",
    "three = ([ 0, 1, 2, 3, 4, 5, 6, 7])"
   ]
  },
  {
   "cell_type": "code",
   "execution_count": 50,
   "metadata": {},
   "outputs": [
    {
     "name": "stdout",
     "output_type": "stream",
     "text": [
      "[10 11 12 13 14 15 16 17 20 21 22 23 24 25 26 27  0  1  2  3  4  5  6  7]\n",
      "[ 0  1  2  3  4  5  6  7 10 11 12 13 14 15 16 17 20 21 22 23 24 25 26 27]\n"
     ]
    }
   ],
   "source": [
    "comboArray = np.concatenate((one, two, three))\n",
    "print(comboArray)\n",
    "print(np.sort(comboArray))"
   ]
  },
  {
   "cell_type": "code",
   "execution_count": 139,
   "metadata": {},
   "outputs": [
    {
     "name": "stdout",
     "output_type": "stream",
     "text": [
      "[11]\n",
      "[12 13 14 15 16 17 20 21 22 23 24 25 26 27  0  1  2  3  4  5  6  7]\n",
      "[13 14 15 16 17 20 21 22 23 24 25]\n",
      "[2 3 4 5 6 7]\n",
      "[]\n",
      "[20 22 24 26  0  2  4  6]\n",
      "[ 7  2 25 20 13]\n"
     ]
    }
   ],
   "source": [
    "14. \n",
    "print(comboArray[1:2])\n",
    "print(comboArray[2:])\n",
    "print(comboArray[3:14])\n",
    "print(comboArray[-6:])\n",
    "print(comboArray[-1:15])\n",
    "print(comboArray[8::2])\n",
    "print(comboArray[-1::-5])"
   ]
  },
  {
   "cell_type": "code",
   "execution_count": 83,
   "metadata": {},
   "outputs": [],
   "source": [
    "15. \n",
    "import numpy as np \n",
    "import pandas as pd\n",
    "\n",
    "Dinner = {\n",
    "\"ingredients\": [\"Flour\", \"Milk\", \"Eggs\", \"Spam\"],\n",
    "\"quantity\": [4, 1, 2, 1],\n",
    "\"unit\": [\"cups\", \"cup\", \"large\", \"can\"]\n",
    "}\n",
    "\n"
   ]
  },
  {
   "cell_type": "code",
   "execution_count": 84,
   "metadata": {},
   "outputs": [
    {
     "name": "stdout",
     "output_type": "stream",
     "text": [
      "  ingredients  quantity   unit\n",
      "0       Flour         4   cups\n",
      "1        Milk         1    cup\n",
      "2        Eggs         2  large\n",
      "3        Spam         1    can\n"
     ]
    }
   ],
   "source": [
    "results = pd.DataFrame(Dinner)\n",
    "print(results)\n"
   ]
  },
  {
   "cell_type": "code",
   "execution_count": 85,
   "metadata": {},
   "outputs": [],
   "source": [
    "16.\n",
    "studentData = {'Name': ['Jai', 'janusha', 'Gaurav', 'Anuj'],\n",
    "        'Height': [5.1, 6.2, 5.1, 5.2],\n",
    "        'Qualification': ['Msc', 'MA', 'Msc', 'Msc'],\n",
    "        'address': ['Delhi', 'Doha', 'Chennai', 'Dakhar'],\n",
    "        'Age': [21, 23, 24, 21],\n",
    "        'Pets': ['Dog', 'Bunny', 'Chinchilla', 'Parrot'],\n",
    "        'sport': ['Darts', 'Basketball', 'PaddleBoarding', 'Cricket']\n",
    "    }\n"
   ]
  },
  {
   "cell_type": "code",
   "execution_count": 86,
   "metadata": {},
   "outputs": [
    {
     "name": "stdout",
     "output_type": "stream",
     "text": [
      "      Name  Height Qualification  address  Age        Pets           sport\n",
      "0      Jai     5.1           Msc    Delhi   21         Dog           Darts\n",
      "1  janusha     6.2            MA     Doha   23       Bunny      Basketball\n",
      "2   Gaurav     5.1           Msc  Chennai   24  Chinchilla  PaddleBoarding\n",
      "3     Anuj     5.2           Msc   Dakhar   21      Parrot         Cricket\n"
     ]
    }
   ],
   "source": [
    "students = pd.DataFrame(studentData)\n",
    "print(students)"
   ]
  },
  {
   "cell_type": "code",
   "execution_count": 151,
   "metadata": {},
   "outputs": [
    {
     "name": "stdout",
     "output_type": "stream",
     "text": [
      "      Name  Height Qualification  address  Age        Pets           sport  \\\n",
      "0      Jai     5.1           Msc    Delhi   21         Dog           Darts   \n",
      "1  janusha     6.2            MA     Doha   23       Bunny      Basketball   \n",
      "2   Gaurav     5.1           Msc  Chennai   24  Chinchilla  PaddleBoarding   \n",
      "3     Anuj     5.2           Msc   Dakhar   21      Parrot         Cricket   \n",
      "\n",
      "        deserts  \n",
      "0     ice cream  \n",
      "1  Cashew Fudge  \n",
      "2       waffels  \n",
      "3  Carrot Halwa  \n"
     ]
    }
   ],
   "source": [
    "17. \n",
    "students['deserts'] = [\"ice cream\", \"Cashew Fudge\", \"waffels\", \"Carrot Halwa\"]\n",
    "print(students)"
   ]
  },
  {
   "cell_type": "code",
   "execution_count": 179,
   "metadata": {},
   "outputs": [],
   "source": [
    "18.\n",
    "students.sort_values(by = ['Name', 'address'], inplace = True)\n"
   ]
  },
  {
   "cell_type": "code",
   "execution_count": 187,
   "metadata": {},
   "outputs": [],
   "source": [
    "19.\n",
    "cows_and_goats = pd.DataFrame({'Cows': [12, 20], 'Goats': [22, 19]}, index=['Year 1', 'Year 2'])"
   ]
  },
  {
   "cell_type": "code",
   "execution_count": 188,
   "metadata": {},
   "outputs": [
    {
     "name": "stdout",
     "output_type": "stream",
     "text": [
      "        Cows  Goats\n",
      "Year 1    12     22\n",
      "Year 2    20     19\n"
     ]
    }
   ],
   "source": [
    "df.to_csv('cows_and_goats.csv')\n",
    "print(cows_and_goats)"
   ]
  },
  {
   "cell_type": "code",
   "execution_count": 190,
   "metadata": {},
   "outputs": [
    {
     "name": "stdout",
     "output_type": "stream",
     "text": [
      "           0\n",
      "0    avocado\n",
      "1      toast\n",
      "2  guacamole\n"
     ]
    }
   ],
   "source": [
    "20. \n",
    "veggies_avocados = pd.DataFrame({\"avocado\", \"guacamole\", \"toast\"})\n",
    "df.to_csv('veggies_avocados.csv')\n",
    "print(veggies_avocados)\n"
   ]
  },
  {
   "cell_type": "code",
   "execution_count": 198,
   "metadata": {},
   "outputs": [],
   "source": [
    "\n",
    "\n",
    "veggies_avocados.to_csv('veggies_spinach.csv')\n"
   ]
  }
 ],
 "metadata": {
  "kernelspec": {
   "display_name": "Python 3",
   "language": "python",
   "name": "python3"
  },
  "language_info": {
   "codemirror_mode": {
    "name": "ipython",
    "version": 3
   },
   "file_extension": ".py",
   "mimetype": "text/x-python",
   "name": "python",
   "nbconvert_exporter": "python",
   "pygments_lexer": "ipython3",
   "version": "3.13.1"
  }
 },
 "nbformat": 4,
 "nbformat_minor": 2
}
