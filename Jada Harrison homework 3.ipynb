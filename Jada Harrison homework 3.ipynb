{
 "cells": [
  {
   "cell_type": "markdown",
   "metadata": {},
   "source": [
    "# Data Types Python Homework \n",
    "\n",
    "1. # Alogrithm is a series of steps used to solve a problem\n",
    "2. ### Cannot start with a number or special characters\n",
    "3.  #### Sematic Error is a grammatically correct but does not make any sense. It does not produce the expeted results\n",
    "4. ###### 1 Debugging rule is complexity is the enemy of efficieny\n",
    "5. ###### Python reserved number include: True, false, nonlocal,as, and\n"
   ]
  },
  {
   "cell_type": "code",
   "execution_count": 12,
   "metadata": {},
   "outputs": [
    {
     "name": "stdout",
     "output_type": "stream",
     "text": [
      "10\n",
      "w\n"
     ]
    }
   ],
   "source": [
    "6. \n",
    "\"\"\" My name is Jada, \n",
    "my favorite food is pizza,\n",
    "my dream job is a data scientist \"\"\"\n",
    "\n",
    "7.\n",
    "j= \"Snowy Days\"\n",
    "a= 26.21\n",
    "d= 26\n",
    "m= [\"hat\", \"sweater\", \"gloves\", \"coat\", \"pants\", \"scarf\"]\n",
    "o= (\"gas\", \"oil\", \"wiper fluid\", \"tire pressure\"  )\n",
    "\n",
    "print(len(j))\n",
    "print(j[3])\n"
   ]
  },
  {
   "cell_type": "code",
   "execution_count": 13,
   "metadata": {},
   "outputs": [
    {
     "name": "stdout",
     "output_type": "stream",
     "text": [
      "Learning Data Analytics and Python is Great!\n"
     ]
    }
   ],
   "source": [
    "8. \n",
    "savvy= (\"Learning Data Analytics and Python is Awesome!\")\n",
    "\n",
    "print(savvy.replace(\"Awesome\", \"Great\"))"
   ]
  },
  {
   "cell_type": "code",
   "execution_count": 14,
   "metadata": {},
   "outputs": [
    {
     "name": "stdout",
     "output_type": "stream",
     "text": [
      "Hi my name is Jada, I am 5'2 and 26 years old today. \n"
     ]
    }
   ],
   "source": [
    "9.\n",
    "name= \"Jada\"\n",
    "age= \"26 years \"\n",
    "length= \"5'2\"\n",
    "miniBio= \"Hi my name is \" + name + \", I am \" + length + \" and \" + age + \"old today. \"\n",
    "print(miniBio)\n"
   ]
  },
  {
   "cell_type": "code",
   "execution_count": 15,
   "metadata": {},
   "outputs": [
    {
     "data": {
      "text/plain": [
       "10.0"
      ]
     },
     "execution_count": 15,
     "metadata": {},
     "output_type": "execute_result"
    }
   ],
   "source": [
    "10."
   ]
  },
  {
   "cell_type": "code",
   "execution_count": 16,
   "metadata": {},
   "outputs": [
    {
     "name": "stdout",
     "output_type": "stream",
     "text": [
      "['Toyota', 'Mobil', '20.86', 'January', 4]\n",
      "['Toyota', 'Mobil', '20.86', 'January', 4, 'candy', 'pizza', 'soda']\n",
      "8\n",
      "['Toyota', 'Mobil', '20.86', 'candy', 'pizza', 'soda']\n",
      "['Toyota', 'Mobil', '20.86', 'January', 4, 'Toyota', 'Mobil', '20.86', 'candy', 'pizza', 'soda']\n",
      "<built-in method sort of list object at 0x0000018512694B80>\n"
     ]
    },
    {
     "data": {
      "text/plain": [
       "['Toyota',\n",
       " 'Mobil',\n",
       " '20.86',\n",
       " 'January',\n",
       " 4,\n",
       " 'Toyota',\n",
       " 'Mobil',\n",
       " '20.86',\n",
       " 'candy',\n",
       " 'pizza',\n",
       " 'soda',\n",
       " 'Toyota',\n",
       " 'Mobil',\n",
       " '20.86',\n",
       " 'candy',\n",
       " 'pizza',\n",
       " 'soda']"
      ]
     },
     "execution_count": 16,
     "metadata": {},
     "output_type": "execute_result"
    }
   ],
   "source": [
    "MDT = [\"Toyota\", \"Quiktrip\", \"20.86\", \"January\", 4]\n",
    "MDT[1] = \"Mobil\"\n",
    "print(MDT)\n",
    "snacks =[\"candy\", \"pizza\", \"soda\"]\n",
    "print(MDT + snacks)\n",
    "print(len(MDT+snacks))\n",
    "pit_stop =(MDT[0:3] + snacks)\n",
    "print(pit_stop)\n",
    "print(MDT + pit_stop)\n",
    "MDT.extend(pit_stop)\n",
    "\n",
    "simList = ['1', '2', '4', '3', '45']\n",
    "simList.sort()\n",
    "\n",
    "print(simList.sort)\n",
    "MDT+pit_stop\n"
   ]
  },
  {
   "cell_type": "markdown",
   "metadata": {},
   "source": [
    "11. "
   ]
  },
  {
   "cell_type": "code",
   "execution_count": 18,
   "metadata": {},
   "outputs": [],
   "source": [
    "import copy "
   ]
  },
  {
   "cell_type": "code",
   "execution_count": 39,
   "metadata": {},
   "outputs": [
    {
     "name": "stdout",
     "output_type": "stream",
     "text": [
      "(3, 5, 6, 7, 12, 77, 89, 3, 5, 6, 7, 12, 77, 89, 3, 5, 6, 7, 12, 77, 89)\n",
      "12\n",
      "None\n"
     ]
    }
   ],
   "source": [
    "tup = (3, 5, 6, 7, 12, 77, 89)\n",
    "tup2 = (3 * tup)\n",
    "print(tup2)\n",
    "print(tup2[11])\n",
    "tup22 = ('3', '5', '6', '7', '12', '77', '89', '3', '5', '6', '7', '12', '77', '89', '3', '5', '6', '7', '12', '77', '89')\n",
    "print(list(tup22).sort())\n",
    "copy.deepcopy(tup22[0:4])\n",
    "tup23 = tup22[0:4]\n",
    "\n",
    "\n"
   ]
  },
  {
   "cell_type": "code",
   "execution_count": 40,
   "metadata": {},
   "outputs": [],
   "source": [
    "tup1 = 3\n",
    "tup12 = 5 \n",
    "tup123 = 6 \n",
    "tup1234 = 7\n",
    "tup12345 = 50 "
   ]
  },
  {
   "cell_type": "code",
   "execution_count": 41,
   "metadata": {},
   "outputs": [
    {
     "name": "stdout",
     "output_type": "stream",
     "text": [
      "5\n",
      "6\n",
      "7\n",
      "3\n",
      "50\n"
     ]
    }
   ],
   "source": [
    "print(tup12)\n",
    "print(tup123)\n",
    "print(tup1234)\n",
    "print(tup1)\n",
    "print(tup12345)\n",
    "tup123456 = tup1 + tup12"
   ]
  },
  {
   "cell_type": "code",
   "execution_count": 42,
   "metadata": {},
   "outputs": [
    {
     "name": "stdout",
     "output_type": "stream",
     "text": [
      "8\n"
     ]
    }
   ],
   "source": [
    "print(tup123456)"
   ]
  },
  {
   "cell_type": "code",
   "execution_count": 62,
   "metadata": {},
   "outputs": [
    {
     "name": "stdout",
     "output_type": "stream",
     "text": [
      "None\n",
      "['kiwi', 'strawberries', 'apples', 'audi', 'insurance', 'napkins', 'sanitizer']\n",
      "None\n"
     ]
    }
   ],
   "source": [
    "12. \n",
    "fruit = [\"kiwi\", \"strawberries\", \"apples\"]\n",
    "car = ['audi']\n",
    "print(fruit.extend(car))\n",
    "glovebox= [\"insurance\", \"napkins\", \"sanitizer\"]\n",
    "fruit.extend(glovebox)\n",
    "print(fruit)\n",
    "fruit.append(\"audi\")\n"
   ]
  },
  {
   "cell_type": "code",
   "execution_count": 149,
   "metadata": {},
   "outputs": [
    {
     "name": "stdout",
     "output_type": "stream",
     "text": [
      "{'brand': 'fenty', 'model': 'gloss bomb', 'color': 'soft pink', 'size': '0.3 oz', 'price': '$21'}\n"
     ]
    },
    {
     "ename": "TypeError",
     "evalue": "update() takes 0 positional arguments but 2 were given",
     "output_type": "error",
     "traceback": [
      "\u001b[1;31m---------------------------------------------------------------------------\u001b[0m",
      "\u001b[1;31mTypeError\u001b[0m                                 Traceback (most recent call last)",
      "Cell \u001b[1;32mIn[149], line 11\u001b[0m\n\u001b[0;32m      2\u001b[0m my_makeup \u001b[38;5;241m=\u001b[39m {\n\u001b[0;32m      3\u001b[0m     \u001b[38;5;124m'\u001b[39m\u001b[38;5;124mbrand\u001b[39m\u001b[38;5;124m'\u001b[39m: \u001b[38;5;124m'\u001b[39m\u001b[38;5;124mfenty\u001b[39m\u001b[38;5;124m'\u001b[39m,\n\u001b[0;32m      4\u001b[0m     \u001b[38;5;124m'\u001b[39m\u001b[38;5;124mmodel\u001b[39m\u001b[38;5;124m'\u001b[39m: \u001b[38;5;124m'\u001b[39m\u001b[38;5;124mgloss bomb\u001b[39m\u001b[38;5;124m'\u001b[39m,\n\u001b[1;32m   (...)\u001b[0m\n\u001b[0;32m      8\u001b[0m \n\u001b[0;32m      9\u001b[0m }\n\u001b[0;32m     10\u001b[0m \u001b[38;5;28mprint\u001b[39m(my_makeup)\n\u001b[1;32m---> 11\u001b[0m \u001b[43mupdate\u001b[49m\u001b[43m(\u001b[49m\u001b[38;5;124;43m\"\u001b[39;49m\u001b[38;5;124;43mcolor\u001b[39;49m\u001b[38;5;124;43m\"\u001b[39;49m\u001b[43m,\u001b[49m\u001b[38;5;124;43m\"\u001b[39;49m\u001b[38;5;124;43mJada\u001b[39;49m\u001b[38;5;124;43m\"\u001b[39;49m\u001b[43m)\u001b[49m\n\u001b[0;32m     12\u001b[0m my_makeup\u001b[38;5;241m.\u001b[39madd(\u001b[38;5;124m\"\u001b[39m\u001b[38;5;124mpurple\u001b[39m\u001b[38;5;124m\"\u001b[39m)\n\u001b[0;32m     13\u001b[0m my_makeup \u001b[38;5;241m=\u001b[39m {\n\u001b[0;32m     14\u001b[0m     \u001b[38;5;124m'\u001b[39m\u001b[38;5;124mbrand\u001b[39m\u001b[38;5;124m'\u001b[39m: \u001b[38;5;124m'\u001b[39m\u001b[38;5;124mfenty\u001b[39m\u001b[38;5;124m'\u001b[39m,\n\u001b[0;32m     15\u001b[0m     \u001b[38;5;124m'\u001b[39m\u001b[38;5;124mmodel\u001b[39m\u001b[38;5;124m'\u001b[39m: \u001b[38;5;124m'\u001b[39m\u001b[38;5;124mgloss bomb\u001b[39m\u001b[38;5;124m'\u001b[39m,\n\u001b[1;32m   (...)\u001b[0m\n\u001b[0;32m     19\u001b[0m     \u001b[38;5;124m\"\u001b[39m\u001b[38;5;124mnails\u001b[39m\u001b[38;5;124m\"\u001b[39m: [\u001b[38;5;124m\"\u001b[39m\u001b[38;5;124mpink gel polish\u001b[39m\u001b[38;5;124m\"\u001b[39m, \u001b[38;5;124m\"\u001b[39m\u001b[38;5;124mclearcoat\u001b[39m\u001b[38;5;124m\"\u001b[39m, \u001b[38;5;124m\"\u001b[39m\u001b[38;5;124mcuticle oil\u001b[39m\u001b[38;5;124m\"\u001b[39m, \u001b[38;5;124m\"\u001b[39m\u001b[38;5;124mnail file\u001b[39m\u001b[38;5;124m\"\u001b[39m]\n\u001b[0;32m     20\u001b[0m }\n",
      "\u001b[1;31mTypeError\u001b[0m: update() takes 0 positional arguments but 2 were given"
     ]
    }
   ],
   "source": [
    "\n",
    "\n",
    "\n",
    "13.\n",
    "my_makeup = {\n",
    "    'brand': 'fenty',\n",
    "    'model': 'gloss bomb',\n",
    "    'color': 'soft pink',\n",
    "    'size': '0.3 oz',\n",
    "    'price': '$21'\n",
    "\n",
    "}\n",
    "print(my_makeup)\n",
    "update(\"color\",\"Jada\")\n",
    "my_makeup.add(\"purple\")\n",
    "my_makeup = {\n",
    "    'brand': 'fenty',\n",
    "    'model': 'gloss bomb',\n",
    "    'color': 'soft pink',\n",
    "    'size': '0.3 oz',\n",
    "    'price': '$21',\n",
    "    \"nails\": [\"pink gel polish\", \"clearcoat\", \"cuticle oil\", \"nail file\"]\n",
    "}\n",
    "keys(my_makeup)\n",
    "values(my_makeup)\n",
    "self_care = {'facials': 'face', 'massage': 'body', 'pedicure': 'feet'}\n",
    "copy(my_makeup + self_care)\n",
    "popitem(self_care)\n",
    "clear(self_care)\n",
    "print(self_care)"
   ]
  }
 ],
 "metadata": {
  "kernelspec": {
   "display_name": "Python 3",
   "language": "python",
   "name": "python3"
  },
  "language_info": {
   "codemirror_mode": {
    "name": "ipython",
    "version": 3
   },
   "file_extension": ".py",
   "mimetype": "text/x-python",
   "name": "python",
   "nbconvert_exporter": "python",
   "pygments_lexer": "ipython3",
   "version": "3.13.1"
  }
 },
 "nbformat": 4,
 "nbformat_minor": 2
}
