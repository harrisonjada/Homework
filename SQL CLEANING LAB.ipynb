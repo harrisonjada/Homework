{
 "cells": [
  {
   "cell_type": "markdown",
   "metadata": {},
   "source": [
    "## SECTION 1 "
   ]
  },
  {
   "cell_type": "markdown",
   "metadata": {},
   "source": [
    "1.1 If you look at the column Accel you can see that each value has the ' sec' suffix on the value.\n",
    "This creates an issue becasue if you ever wanted to run a summary function like AVG() on the Accel values you would not be able to becasue the datatype would most likely be a string and not an acceptable type to run that function.\n",
    "Our Job is to remove that suffix from the Accel column. We are also going to rename the column with the units in the column name to inform the person looking at the table what the column units are.\n"
   ]
  },
  {
   "cell_type": "code",
   "execution_count": null,
   "metadata": {},
   "outputs": [],
   "source": [
    "1.1 SELECT AccelSec FROM evCars"
   ]
  },
  {
   "cell_type": "markdown",
   "metadata": {},
   "source": [
    "1.2 We would like to remove ' sec' from each value in the Accel column.\n"
   ]
  },
  {
   "cell_type": "code",
   "execution_count": null,
   "metadata": {},
   "outputs": [],
   "source": [
    "SELECT Accel, TRIM(accel, ' sec')\n",
    "FROM evCars"
   ]
  },
  {
   "cell_type": "markdown",
   "metadata": {},
   "source": [
    "Also take note of how many rows are returned in this select statement. (you can use the rowid on the far left of the result set---> scroll to the bottom number)\n",
    "You will use this number to confirm you are changing the correct amount of rows in the next step."
   ]
  },
  {
   "cell_type": "code",
   "execution_count": null,
   "metadata": {},
   "outputs": [],
   "source": [
    "1.3 Use a select statement to visualize the original column and the changes that are made by the string function side by side in the result set."
   ]
  },
  {
   "cell_type": "code",
   "execution_count": null,
   "metadata": {},
   "outputs": [],
   "source": [
    "SELECT Accel \n",
    "FROM evCars;"
   ]
  },
  {
   "cell_type": "markdown",
   "metadata": {},
   "source": [
    "1.4 Write the update statement to set Accel to equal the return value of the string function that you chose to use in 1.2."
   ]
  },
  {
   "cell_type": "code",
   "execution_count": null,
   "metadata": {},
   "outputs": [],
   "source": [
    " UPDATE evCars SET Accel = TRIM(accel, ' sec');"
   ]
  },
  {
   "cell_type": "markdown",
   "metadata": {},
   "source": [
    "1.5 Write a select statement to look at the column again. "
   ]
  },
  {
   "cell_type": "code",
   "execution_count": null,
   "metadata": {},
   "outputs": [],
   "source": [
    " SELECT Accel FROM evCars\n"
   ]
  },
  {
   "cell_type": "markdown",
   "metadata": {},
   "source": [
    "1.6 Rename the column Accel from accelSec"
   ]
  },
  {
   "cell_type": "code",
   "execution_count": null,
   "metadata": {},
   "outputs": [],
   "source": [
    "ALTER TABLE evCars\n",
    "\tRENAME Accel TO AccelSec"
   ]
  },
  {
   "cell_type": "markdown",
   "metadata": {},
   "source": [
    "## SECTION 2"
   ]
  },
  {
   "cell_type": "markdown",
   "metadata": {},
   "source": [
    "2.1 Write a query to look at all the records in the Topspeed column."
   ]
  },
  {
   "cell_type": "code",
   "execution_count": null,
   "metadata": {},
   "outputs": [],
   "source": [
    "SELECT TopSpeed \n",
    "FROM evCars"
   ]
  },
  {
   "cell_type": "markdown",
   "metadata": {},
   "source": [
    "2.2 We would like to remove 'km/h' from each value in the column TopSpeed."
   ]
  },
  {
   "cell_type": "code",
   "execution_count": null,
   "metadata": {},
   "outputs": [],
   "source": [
    " SELECT TopSpeed, TRIM(topspeed, ' km/h')\n",
    "FROM evCars"
   ]
  },
  {
   "cell_type": "markdown",
   "metadata": {},
   "source": [
    "2.3 Use a select statement to visualize the original column, TopSpeed and the changes that are made by the string function side by side in the result set."
   ]
  },
  {
   "cell_type": "code",
   "execution_count": null,
   "metadata": {},
   "outputs": [],
   "source": [
    "SELECT TopSpeed \n",
    "FROM evCars\n",
    "103 rows"
   ]
  },
  {
   "cell_type": "markdown",
   "metadata": {},
   "source": [
    "2.4 Write the update statement to set TopSpeed to equal the return value of the string function you chose in 2.2"
   ]
  },
  {
   "cell_type": "code",
   "execution_count": null,
   "metadata": {},
   "outputs": [],
   "source": [
    "UPDATE evCars SET TopSpeed = TRIM(topspeed, ' km/h');"
   ]
  },
  {
   "cell_type": "markdown",
   "metadata": {},
   "source": [
    "2.5 Write a select statement to look at the column again. (you can reuse the code you wrote above in 2.1)"
   ]
  },
  {
   "cell_type": "code",
   "execution_count": null,
   "metadata": {},
   "outputs": [],
   "source": [
    "SELECT TopSpeed \n",
    "FROM evCars"
   ]
  },
  {
   "cell_type": "markdown",
   "metadata": {},
   "source": [
    "2.6 Let's convert the TopSpeed from km/h to MPH\n",
    "Write a select statement to multiply the speed by 0.621371. Return original Topspeed and calculated TopspeedMPH. Round the answer to 1 decimal place ."
   ]
  },
  {
   "cell_type": "code",
   "execution_count": null,
   "metadata": {},
   "outputs": [],
   "source": [
    "SELECT TopSpeed, ROUND(topspeed * 0.621371,1)\n",
    "FROM evCars"
   ]
  },
  {
   "cell_type": "markdown",
   "metadata": {},
   "source": [
    "Write and executing the above query to see the original and the converted value side by side\n",
    "Turn this query into an UPDATE statement"
   ]
  },
  {
   "cell_type": "code",
   "execution_count": null,
   "metadata": {},
   "outputs": [],
   "source": [
    "UPDATE evCars\n",
    "SET TopSpeed = ROUND(topspeed * 0.621371,1)"
   ]
  },
  {
   "cell_type": "markdown",
   "metadata": {},
   "source": [
    "2.7 Rename the TopSpeed column to topSpeedMPH"
   ]
  },
  {
   "cell_type": "code",
   "execution_count": null,
   "metadata": {},
   "outputs": [],
   "source": [
    "ALTER TABLE evCars\n",
    "RENAME TopSpeed TO TopSpeedMPH"
   ]
  },
  {
   "cell_type": "markdown",
   "metadata": {},
   "source": [
    "2.8 2.8 Select All of the records to get a look at the whole table with your recent changes.\n",
    "SELECT * "
   ]
  },
  {
   "cell_type": "code",
   "execution_count": null,
   "metadata": {},
   "outputs": [],
   "source": [
    "SELECT * \n",
    "FROM evCars"
   ]
  },
  {
   "cell_type": "markdown",
   "metadata": {},
   "source": [
    "## SECTION 3"
   ]
  },
  {
   "cell_type": "markdown",
   "metadata": {},
   "source": [
    "3.1  Review the column that you are looking to change"
   ]
  },
  {
   "cell_type": "code",
   "execution_count": null,
   "metadata": {},
   "outputs": [],
   "source": [
    " SELECT Range \n",
    "FROM evCars "
   ]
  },
  {
   "cell_type": "markdown",
   "metadata": {},
   "source": [
    "3.2 We would like to remove 'km' from each value in the column Range."
   ]
  },
  {
   "cell_type": "code",
   "execution_count": null,
   "metadata": {},
   "outputs": [],
   "source": [
    "SELECT Range, TRIM(range, ' km')\n",
    "FROM evCars "
   ]
  },
  {
   "cell_type": "markdown",
   "metadata": {},
   "source": [
    "3.3 Use a select statement to visualize the original column, Range and the changes that are made by the string function side by side in the result set."
   ]
  },
  {
   "cell_type": "code",
   "execution_count": null,
   "metadata": {},
   "outputs": [],
   "source": [
    "UPDATE evCars\n",
    "SET Range = TRIM(range, ' km');"
   ]
  },
  {
   "cell_type": "markdown",
   "metadata": {},
   "source": [
    "3.4 Write the update statement to set Range to equal the return value of the string function you chose in 3.2"
   ]
  },
  {
   "cell_type": "code",
   "execution_count": null,
   "metadata": {},
   "outputs": [],
   "source": [
    "UPDATE evCars\n",
    "SET Range = TRIM(range, ' km');"
   ]
  },
  {
   "cell_type": "markdown",
   "metadata": {},
   "source": [
    "3.5 Write a select statement to look at the column again. (you can reuse the code you wrote above)"
   ]
  },
  {
   "cell_type": "code",
   "execution_count": null,
   "metadata": {},
   "outputs": [],
   "source": [
    "SELECT range \n",
    "FROM evCars"
   ]
  },
  {
   "cell_type": "markdown",
   "metadata": {},
   "source": [
    "3.6 Let's convert the Range from km to miles.\n",
    "Write a select statement to multiply the distance by 0.621371. Return original Range and calculated RangeMiles. Round the answer to 1 decimal place."
   ]
  },
  {
   "cell_type": "code",
   "execution_count": null,
   "metadata": {},
   "outputs": [],
   "source": [
    "SELECT Range, ROUND(range * 0.621371,1)\n",
    "FROM evCars"
   ]
  },
  {
   "cell_type": "code",
   "execution_count": null,
   "metadata": {},
   "outputs": [],
   "source": [
    "UPDATE evCars \n",
    "SET Range = ROUND(range * 0.621371,1)"
   ]
  },
  {
   "cell_type": "markdown",
   "metadata": {},
   "source": [
    "3.7 Rename the Range column to rangeMiles"
   ]
  },
  {
   "cell_type": "code",
   "execution_count": null,
   "metadata": {},
   "outputs": [],
   "source": [
    "ALTER TABLE evCars \n",
    "RENAME Range TO RangeMiles"
   ]
  },
  {
   "cell_type": "markdown",
   "metadata": {},
   "source": [
    "3.8 Select All of the records to get a look at the whole table with your recent changes."
   ]
  },
  {
   "cell_type": "code",
   "execution_count": null,
   "metadata": {},
   "outputs": [],
   "source": [
    "SELECT RangeMiles \n",
    "FROM evCars"
   ]
  },
  {
   "cell_type": "markdown",
   "metadata": {},
   "source": [
    "## SECTION 4"
   ]
  },
  {
   "cell_type": "markdown",
   "metadata": {},
   "source": [
    "4.1 Write a select statement to review both of the columns that you are looking to change"
   ]
  },
  {
   "cell_type": "code",
   "execution_count": null,
   "metadata": {},
   "outputs": [],
   "source": [
    "SELECT Efficiency, FastCharge \n",
    "FROM evCars"
   ]
  },
  {
   "cell_type": "markdown",
   "metadata": {},
   "source": [
    "4.2 We would like to remove ' Wh/km' from each value in the column efficiency.\n",
    "We would like to remove ' km/h from FastCharge"
   ]
  },
  {
   "cell_type": "code",
   "execution_count": null,
   "metadata": {},
   "outputs": [],
   "source": [
    "SELECT Efficiency, TRIM(efficiency, ' Wh/km')\n",
    "FROM evCars \n",
    "\n",
    "\n",
    "SELECT Efficiency, FastCharge, TRIM(efficiency, ' Wh/km'),TRIM(fastcharge, ' km/h')\n",
    "FROM evCars"
   ]
  },
  {
   "cell_type": "markdown",
   "metadata": {},
   "source": [
    "4.3 Use a select statement to visualize the original column efficiency, the string function removing ' Wh/km', original column Fastcharge, and the string function removing ' km/h'"
   ]
  },
  {
   "cell_type": "code",
   "execution_count": null,
   "metadata": {},
   "outputs": [],
   "source": [
    "SELECT Efficiency, FastCharge \n",
    "FROM evCars"
   ]
  },
  {
   "cell_type": "markdown",
   "metadata": {},
   "source": [
    "4.4 Write the update statement to set Range to equal the return value of the string function you chose in 4.2"
   ]
  },
  {
   "cell_type": "code",
   "execution_count": null,
   "metadata": {},
   "outputs": [],
   "source": [
    "UPDATE evCars \n",
    "SET Efficiency = TRIM(efficiency, ' Wh/km'), FastCharge = TRIM(fastcharge, ' km/h')"
   ]
  },
  {
   "cell_type": "markdown",
   "metadata": {},
   "source": [
    "4.5 Write a select statement to look at all of the columns again. (you can reuse the code you wrote above in section4.3)"
   ]
  },
  {
   "cell_type": "code",
   "execution_count": null,
   "metadata": {},
   "outputs": [],
   "source": [
    "SELECT Efficiency, FastCharge \n",
    "FROM evCars"
   ]
  },
  {
   "cell_type": "markdown",
   "metadata": {},
   "source": [
    "4.6 Let's convert the FastCharge from km to miles.\n",
    "Write a select statement to multiply the distance by 0.621371. Return original FastCharge and calculated OneHourFastChargeMiles. Round the answer to 1 decimal place.\n",
    "WRITE update query"
   ]
  },
  {
   "cell_type": "code",
   "execution_count": null,
   "metadata": {},
   "outputs": [],
   "source": [
    "SELECT OneHourFastChargeMiles, ROUND(onehourfastchargemiles * 0.621371,1)\n",
    "FROM evCars "
   ]
  },
  {
   "cell_type": "markdown",
   "metadata": {},
   "source": [
    "4.7 Write two seperate ALTER TABLE statements for these.\n",
    "Rename the FastCharge column to OneHourFastChargeMiles\n",
    "Rename the efficiency column to efficiencyWHperKM\n"
   ]
  },
  {
   "cell_type": "code",
   "execution_count": null,
   "metadata": {},
   "outputs": [],
   "source": [
    "ALTER TABLE evCars\n",
    "RENAME Efficiency to efficiencyWHperKM\n",
    "ALTER TABLE evCars\n",
    "RENAME FastCharge to OneHourFastChargeMiles"
   ]
  },
  {
   "cell_type": "markdown",
   "metadata": {},
   "source": [
    "4.8 Select All of the records to get a look at the whole table with your recent changes."
   ]
  },
  {
   "cell_type": "code",
   "execution_count": null,
   "metadata": {},
   "outputs": [],
   "source": [
    "SELECT *\n",
    "FROM evCars"
   ]
  },
  {
   "cell_type": "markdown",
   "metadata": {},
   "source": [
    "## SECTION 5 "
   ]
  },
  {
   "cell_type": "markdown",
   "metadata": {},
   "source": [
    "5.1 Write a query that selects RapidCharge and counts all the records based on that attribute."
   ]
  },
  {
   "cell_type": "code",
   "execution_count": null,
   "metadata": {},
   "outputs": [],
   "source": [
    "SELECT RapidCharge, Count(*)\n",
    "from evCars\n",
    "GROUP BY RapidCharge"
   ]
  },
  {
   "cell_type": "markdown",
   "metadata": {},
   "source": [
    "5.2 we are going to simplify the records\n",
    "this can be done in a few different ways\n",
    "you can make the values a boolean: either True or False\n",
    "you can make the values a 1 for yes they are rapid charge capable or a 0 for no they are not capable.\n",
    "or you can do a yes or no."
   ]
  },
  {
   "cell_type": "code",
   "execution_count": null,
   "metadata": {},
   "outputs": [],
   "source": [
    "UPDATE evCars \n",
    "SET RapidCharge = '3'\n",
    "WHERE RapidCharge is '5'"
   ]
  },
  {
   "cell_type": "markdown",
   "metadata": {},
   "source": [
    "5.3  For the purpose of this exercise, if the car's `RapidCharge` value equals 3 then I want you to change the value to 'Yes' \n",
    "- If the `RapidCharge` value equals 5 then I want you to change the value to 'No'. "
   ]
  },
  {
   "cell_type": "markdown",
   "metadata": {},
   "source": [
    "## SECTION 6 "
   ]
  },
  {
   "cell_type": "markdown",
   "metadata": {},
   "source": [
    "6.1 Write a query that selects PowerTrain and counts all the records. (HINT: Remember GROUP BY from SQL Lesson 7.2)\n"
   ]
  },
  {
   "cell_type": "code",
   "execution_count": null,
   "metadata": {},
   "outputs": [],
   "source": [
    "SELECT PowerTrain, Count(*)\n",
    "FROM evCars \n",
    "GROUP BY PowerTrain"
   ]
  },
  {
   "cell_type": "markdown",
   "metadata": {},
   "source": [
    "6.2 - look at the three DISTINCT values from the query you wrote in 6.1 and fill in the blanks.\n",
    "- If the PowerTrain equals _____41_________ then I want you to change the value to 'AWD'\n",
    "- If the PowerTrain equals _______25_____ then I want you to change the value to 'RWD'\n",
    "- If the PowerTrain equals ______37________ then I want you to change the value to 'FWD"
   ]
  },
  {
   "cell_type": "markdown",
   "metadata": {},
   "source": [
    "6.3 Write three update statements for the three different conditions"
   ]
  },
  {
   "cell_type": "code",
   "execution_count": null,
   "metadata": {},
   "outputs": [],
   "source": [
    "UPDATE PowerTrain\n",
    "SET Rear Wheel Drive = '25'\n",
    "WHERE Count = '22'\n",
    "\n",
    "UPDATE PowerTrain\n",
    "SET ALL Wheel Drive = '41'\n",
    "WHERE Count = '39'\n",
    "\n",
    "UPDATE PowerTrain\n",
    "SET Front Wheel Drive = '37'\n",
    "WHERE Count = '44'"
   ]
  },
  {
   "cell_type": "markdown",
   "metadata": {},
   "source": [
    "6.4 Write a query to Select all the recods to view all of your changes "
   ]
  },
  {
   "cell_type": "code",
   "execution_count": null,
   "metadata": {},
   "outputs": [],
   "source": [
    "SELECT * \n",
    "From evCars"
   ]
  },
  {
   "cell_type": "markdown",
   "metadata": {},
   "source": [
    "## SECTION 7 "
   ]
  },
  {
   "cell_type": "markdown",
   "metadata": {},
   "source": [
    "7.1 7.1 Convert the PriceEuro to PriceUSD"
   ]
  },
  {
   "cell_type": "code",
   "execution_count": null,
   "metadata": {},
   "outputs": [],
   "source": [
    "SELECT PriceEuro, ROUND(priceeuro  *1.09,2)\n",
    "FROM evCars"
   ]
  },
  {
   "cell_type": "markdown",
   "metadata": {},
   "source": [
    "7.2 Turn this query into an UPDATE statement. Remember to round the calculation to two decimal points.\n",
    "Write a select query from to check the PriceEuro column"
   ]
  },
  {
   "cell_type": "code",
   "execution_count": null,
   "metadata": {},
   "outputs": [],
   "source": [
    "UPDATE evCars\n",
    "SET PriceEuro=Round(priceeuro *1.09,2)"
   ]
  },
  {
   "cell_type": "markdown",
   "metadata": {},
   "source": [
    "7.3 Rename PriceEuro to PriceUSD"
   ]
  },
  {
   "cell_type": "code",
   "execution_count": null,
   "metadata": {},
   "outputs": [],
   "source": [
    " ALTER TABLE evCars\n",
    "RENAME ROUND(priceeuro * 1.09,2) TO PriceUSD"
   ]
  }
 ],
 "metadata": {
  "kernelspec": {
   "display_name": "Python 3",
   "language": "python",
   "name": "python3"
  },
  "language_info": {
   "name": "python",
   "version": "3.13.1"
  }
 },
 "nbformat": 4,
 "nbformat_minor": 2
}
