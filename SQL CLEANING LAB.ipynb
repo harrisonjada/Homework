{
 "cells": [
  {
   "cell_type": "code",
   "execution_count": null,
   "metadata": {},
   "outputs": [],
   "source": [
    "Section 1\n",
    "1.1 SELECT AccelSec FROM evCars\n",
    "1.2 SELECT Accel, TRIM(accel, ' sec')\n",
    "FROM evCars\n",
    "1.3 UPDATE evCars SET Accel = TRIM(accel, ' sec');\n",
    "1.4 ALTER TABLE evCars\n",
    "\tRENAME Accel TO AccelSec\n",
    "\n"
   ]
  },
  {
   "cell_type": "markdown",
   "metadata": {},
   "source": [
    "Section 2 \n",
    "2.0 SELECT TopSpeed, Range, efficiency, FastCharge\n",
    "FROM evCars \n",
    "LIMIT 10\n",
    "2.1  SELECT TopSpeed \n",
    "FROM evCars \n",
    "2.2 SELECT TopSpeed, TRIM(topspeed, ' km/h')\n",
    "FROM evCars \n",
    "2.3 103 rows\n",
    "2.4 UPDATE evCars SET TopSpeed = TRIM(topspeed, ' km/h');\n",
    "2.5 SELECT TopSpeed \n",
    "FROM evCars \n",
    "2.6 SELECT TopSpeed, ROUND(topspeed * 0.621371,1)\n",
    "FROM evCars\n",
    "UPDATE evCars\n",
    "SET TopSpeed = ROUND(topspeed * 0.621371,1)\n",
    "2.7 ALTER TABLE evCars\n",
    "RENAME TopSpeed TO TopSpeedMPH\n",
    "2.8 SELECT * \n",
    "FROM evCars\n",
    "\n",
    "\n",
    "\n"
   ]
  },
  {
   "cell_type": "markdown",
   "metadata": {},
   "source": [
    "SECTION 3 \n",
    "3.1 SELECT Range \n",
    "FROM evCars \n",
    "3.2 SELECT Range, TRIM(range, ' km')\n",
    "FROM evCars \n",
    "3.3 UPDATE evCars\n",
    "SET Range = TRIM(range, ' km');\n",
    "3.4  UPDATE evCars\n",
    "SET Range = TRIM(range, ' km');\n",
    "3.5 SELECT range \n",
    "FROM evCars\n",
    "3.6 SELECT Range, ROUND(range * 0.621371,1)\n",
    "FROM evCars\n",
    " UPDATE evCars \n",
    "SET Range = ROUND(range * 0.621371,1)\n",
    "3.7 ALTER TABLE evCars \n",
    "RENAME Range TO RangeMiles\n",
    "3.8 SELECT RangeMiles \n",
    "FROM evCars\n"
   ]
  },
  {
   "cell_type": "markdown",
   "metadata": {},
   "source": [
    "SECTION 4 \n",
    "4.1 SELECT Efficiency, FastCharge \n",
    "FROM evCars\n",
    "4.2 SELECT Efficiency, TRIM(efficiency, ' Wh/km')\n",
    "FROM evCars \n",
    "SELECT Efficiency, FastCharge, TRIM(efficiency, ' Wh/km'),TRIM(fastcharge, ' km/h')\n",
    "FROM evCars\n",
    "4.3 SELECT Efficiency, FastCharge \n",
    "FROM evCars\n",
    "4.4 UPDATE evCars \n",
    "SET Efficiency = TRIM(efficiency, ' Wh/km'), FastCharge = TRIM(fastcharge, ' km/h')\n",
    "4.5 SELECT Efficiency, FastCharge \n",
    "FROM evCars\n",
    "4.6 * skipped this step on accident **\n",
    "SELECT OneHourFastChargeMiles, ROUND(onehourfastchargemiles * 0.621371,1)\n",
    "FROM evCars \n",
    "\n",
    "4.7 ALTER TABLE evCars\n",
    "RENAME Efficiency to efficiencyWHperKM\n",
    "ALTER TABLE evCars\n",
    "RENAME FastCharge to OneHourFastChargeMiles\n",
    "4.8 SELECT *\n",
    "FROM evCars\n"
   ]
  },
  {
   "cell_type": "markdown",
   "metadata": {},
   "source": [
    "SECTION 5 \n",
    "5.1 SELECT RapidCharge, Count(*)\n",
    "from evCars\n",
    "GROUP BY RapidCharge\n",
    "\n",
    "5.2 UPDATE evCars \n",
    "SET RapidCharge = '3'\n",
    "WHERE RapidCharge is '5'\n",
    "\n",
    "5.3 For the purpose of this exercise, if the car's `RapidCharge` value equals 3 then I want you to change the value to 'Yes' \n",
    "- If the `RapidCharge` value equals 5 then I want you to change the value to 'No'. \n"
   ]
  },
  {
   "cell_type": "markdown",
   "metadata": {},
   "source": [
    "SECTION 6 \n",
    "6.1 SELECT PowerTrain, Count(*)\n",
    "FROM evCars \n",
    "GROUP BY PowerTrain\n",
    "\n",
    "6.2 - look at the three DISTINCT values from the query you wrote in 6.1 and fill in the blanks.\n",
    "- If the PowerTrain equals _____41_________ then I want you to change the value to 'AWD'\n",
    "- If the PowerTrain equals _______25_____ then I want you to change the value to 'RWD'\n",
    "- If the PowerTrain equals ______37________ then I want you to change the value to 'FWD\n",
    "\n",
    "6.3 UPDATE PowerTrain\n",
    "SET Rear Wheel Drive = '25'\n",
    "WHERE Count = '22'\n",
    "\n",
    "UPDATE PowerTrain\n",
    "SET ALL Wheel Drive = '41'\n",
    "WHERE Count = '39'\n",
    "\n",
    "UPDATE PowerTrain\n",
    "SET Front Wheel Drive = '37'\n",
    "WHERE Count = '44'\n",
    "\n"
   ]
  },
  {
   "cell_type": "markdown",
   "metadata": {},
   "source": [
    "SECTION 7 \n",
    "7.1 SELECT PriceEuro, ROUND(priceeuro  *1.09,2)\n",
    "FROM evCars \n",
    "7.2 UPDATE evCars\n",
    "SET PriceEuro=Round(priceeuro *1.09,2)\n",
    "7.3 ALTER TABLE evCars\n",
    "RENAME ROUND(priceeuro * 1.09,2) TO PriceUSD"
   ]
  }
 ],
 "metadata": {
  "kernelspec": {
   "display_name": "Python 3",
   "language": "python",
   "name": "python3"
  },
  "language_info": {
   "name": "python",
   "version": "3.13.1"
  }
 },
 "nbformat": 4,
 "nbformat_minor": 2
}
