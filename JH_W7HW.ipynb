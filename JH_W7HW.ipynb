{
 "cells": [
  {
   "cell_type": "markdown",
   "metadata": {},
   "source": [
    "### SECTION 7.1 \n"
   ]
  },
  {
   "cell_type": "markdown",
   "metadata": {},
   "source": [
    "### 1. SELECT Make, ModelYear, Model \n",
    "FROM EVRegistry;\n",
    "\n",
    "#### 2. SELECT ElectricVehicleType\n",
    "FROM EVRegistry;\n",
    "\n",
    "3. ### SELECT BatteryElectricVehicles\n",
    "FROM EVRegistry;\n",
    "\n",
    "\n",
    "### 4. SELECT DISTINCT Make, Model, BaseMSRP\n",
    "FROM EVRegistry\n",
    "WHERE BaseMSRP BETWEEN 20000 AND 35000;"
   ]
  },
  {
   "cell_type": "markdown",
   "metadata": {},
   "source": [
    "### SECTION 7.2\n",
    "## 1. SELECT City \n",
    "FROM EVRegistry\n",
    "WHERE City is NULL;\n",
    "\n",
    "### 2. SELECT Make, Model, ElectricVehicleType, ElectricRange\n",
    "From EVRegistry\n",
    "WHERE VIN is \"3E1EA1J\";\n",
    "\n",
    "#### 3. SELECT ModelYear, Make, Model, ElectricVehicleType, ElectricRange\n",
    "FROM EVRegistry\n",
    "WHERE Make = 'Telsa'\n",
    "ORDER BY Make, ModelYear ASC;\n",
    "\n",
    "### 4. SELECT StationID, Count(*) as numUses\n",
    "FROM EVCharging\n",
    "GROUP BY StationID \n",
    "ORDER BY COUNT(*) ASC\n",
    "LIMIT 5\n",
    "\n",
    "### 5. SELECT userId, MIN(chargeTimeHrs) as 'minhours', MAX(chargeTimeHrs) as 'maxHours'\n",
    "FROM EVCharging\n",
    "WHERE chargeTimeHrs > 0.5 \n",
    "GROUP BY userId\n",
    "ORDER BY 2;\n"
   ]
  },
  {
   "cell_type": "markdown",
   "metadata": {},
   "source": [
    "#### SECTION 7.3\n",
    "### 1. SELECT ROUND(AVG(chargeTimeHrs),2) as 'avgChargeTime',weekday\n",
    "FROM EVCharging;\n",
    "\n",
    "### 2. SELECT userId, ROUND(SUM(kwhTotal),2) as 'totalPower'\n",
    "FROM EVCharging\n",
    "GROUP BY userId\n",
    "ORDER BY totalPower DESC\n",
    "LIMIT 15;\n",
    "\n",
    "## 3. SELECT typeFacility, COUNT(*) as 'numStation', SUM(chargeTimeHrs)\n",
    "FROM factCharge\n",
    "INNER JOIN dimFacility\n",
    "ORDER BY ASC;\n",
    "\n",
    "### 4. Primary Key-identifies each record that exist in our tble \n",
    "### Foreign Key in one table refers to the primary key in a connected table \n",
    "\n",
    "### 5. SELECT userId, MIN(chargeTimeHrs) as 'minhours', MAX(chargeTimeHrs) as 'maxHours'\n",
    "FROM EVCharging\n",
    "WHERE chargeTimeHrs > 1 \n",
    "GROUP BY userId\n",
    "LIMIT 2;"
   ]
  }
 ],
 "metadata": {
  "language_info": {
   "name": "python"
  }
 },
 "nbformat": 4,
 "nbformat_minor": 2
}
