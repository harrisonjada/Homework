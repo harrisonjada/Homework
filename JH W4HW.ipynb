{
 "cells": [
  {
   "cell_type": "markdown",
   "metadata": {},
   "source": [
    "Python Homework Section 4\n",
    "1. # If we want to use code from a module or a library in our applications, we first need to import the respective module into our code-base. by using the import statement.\n",
    "2. ## \n",
    "3. ### So when and error is raised in the try block, the except block will be executed. Without the try block, the program will crash. With this code device we can keep going past many errors.\n",
    "4. ### The try block lets you test a block of code for errors. - The except block lets you handle the error. -The else block lets you execute code when there is no error. -The finally block lets you execute code, regardless of the result of the try- and except blocks.\n",
    "5. #### list \n",
    "6. ### seamlessly and speedy integrate with a wide variety of databases\n",
    "7. #\n",
    "8. ### Numpy arrays Numby slicing\n",
    "9. ### panda\n",
    "10. ### The shape is a tuple of non-negative integers that specify the dimensions, length and size of each array (3,2,4)\n",
    "11. ###### 3-d numpy array\n",
    "12. #### Less Memory - NumPy arrays occupy less memory as compared to lists Fast - NumPy arrays are faster compared to lists Convenient - it is convenient to work with NumPy Biggest difference between Python lists and NumPy arrays:- NumPy array elements are homogeneous -- of the same or a similar kind or nature\n",
    "13. #### It just means the array doesn't have its values initialized (i.e., they are unpredictable and depend on whatever happens to be in the memory allocated for the array"
   ]
  },
  {
   "cell_type": "code",
   "execution_count": 1,
   "metadata": {},
   "outputs": [
    {
     "ename": "SyntaxError",
     "evalue": "invalid syntax (3884981069.py, line 2)",
     "output_type": "error",
     "traceback": [
      "\u001b[1;36m  Cell \u001b[1;32mIn[1], line 2\u001b[1;36m\u001b[0m\n\u001b[1;33m    match age: 24\u001b[0m\n\u001b[1;37m               ^\u001b[0m\n\u001b[1;31mSyntaxError\u001b[0m\u001b[1;31m:\u001b[0m invalid syntax\n"
     ]
    }
   ],
   "source": [
    "1.\n",
    "match age: 24\n",
    "    case _ if age > 25:\n",
    "        print('Renting a car is more affordable')\n",
    "    case _ if score < 25:\n",
    "        print('Renting a car is very expensive.')\n",
    "        "
   ]
  },
  {
   "cell_type": "code",
   "execution_count": 20,
   "metadata": {},
   "outputs": [
    {
     "ename": "SyntaxError",
     "evalue": "invalid syntax (1002261124.py, line 7)",
     "output_type": "error",
     "traceback": [
      "\u001b[1;36m  Cell \u001b[1;32mIn[20], line 7\u001b[1;36m\u001b[0m\n\u001b[1;33m    if age < b , but >= c:\u001b[0m\n\u001b[1;37m               ^\u001b[0m\n\u001b[1;31mSyntaxError\u001b[0m\u001b[1;31m:\u001b[0m invalid syntax\n"
     ]
    }
   ],
   "source": [
    "2. \n",
    "age = 26\n",
    "b = 25\n",
    "c = 18\n",
    "if age > b:\n",
    "    print('Renting a car is more affordable')\n",
    "if age < b , but >= c:\n",
    "    print('Renting a car is very expensive')\n",
    "if age < than c:\n",
    "    print('You cannot legally rent a car')"
   ]
  },
  {
   "cell_type": "code",
   "execution_count": 19,
   "metadata": {},
   "outputs": [
    {
     "ename": "SyntaxError",
     "evalue": "invalid syntax (2420071260.py, line 1)",
     "output_type": "error",
     "traceback": [
      "\u001b[1;36m  Cell \u001b[1;32mIn[19], line 1\u001b[1;36m\u001b[0m\n\u001b[1;33m    if age is > 25:\u001b[0m\n\u001b[1;37m              ^\u001b[0m\n\u001b[1;31mSyntaxError\u001b[0m\u001b[1;31m:\u001b[0m invalid syntax\n"
     ]
    }
   ],
   "source": [
    "if age is >= 25:\n",
    "    print(\"Renting a car is more affordable.\")\n",
    "else:\n",
    "    print(\"Renting a car is very expensive.\")\n",
    "if age is >= 18:\n",
    "    print(\"Renting a car is very expensive.\")\n",
    "else:\n",
    "    print(\"You cannot legally rent a car.\")\n"
   ]
  },
  {
   "cell_type": "code",
   "execution_count": 21,
   "metadata": {},
   "outputs": [
    {
     "name": "stdout",
     "output_type": "stream",
     "text": [
      "e\n",
      "u\n",
      "i\n",
      "o\n",
      "o\n",
      "u\n",
      "o\n",
      "e\n",
      "e\n",
      "a\n",
      "o\n"
     ]
    },
    {
     "ename": "NameError",
     "evalue": "name 'sum_of_letters' is not defined",
     "output_type": "error",
     "traceback": [
      "\u001b[1;31m---------------------------------------------------------------------------\u001b[0m",
      "\u001b[1;31mNameError\u001b[0m                                 Traceback (most recent call last)",
      "Cell \u001b[1;32mIn[21], line 6\u001b[0m\n\u001b[0;32m      4\u001b[0m         \u001b[38;5;28mprint\u001b[39m(letters)\n\u001b[0;32m      5\u001b[0m \u001b[38;5;28;01mfor\u001b[39;00m letters \u001b[38;5;129;01min\u001b[39;00m animals:\n\u001b[1;32m----> 6\u001b[0m     \u001b[38;5;28;01mif\u001b[39;00m letters \u001b[38;5;129;01min\u001b[39;00m \u001b[43msum_of_letters\u001b[49m:\n\u001b[0;32m      7\u001b[0m             \u001b[38;5;28mprint\u001b[39m(letters)\n",
      "\u001b[1;31mNameError\u001b[0m: name 'sum_of_letters' is not defined"
     ]
    }
   ],
   "source": [
    "animals = (\"The quick brown fox jumps over the lazy dog\")\n",
    "for letters in animals:\n",
    "    if letters in 'aeiou':\n",
    "        print(letters)\n",
    "for letters in animals:\n",
    "    if letters in sum_of_letters:\n",
    "            print(letters)"
   ]
  },
  {
   "cell_type": "code",
   "execution_count": 13,
   "metadata": {},
   "outputs": [
    {
     "name": "stdout",
     "output_type": "stream",
     "text": [
      "gunmetal blue trousers\n",
      "auburn trousers\n",
      "cerise trousers\n",
      "aqua trousers\n",
      "fuchsia trousers\n",
      "maple trousers\n",
      "Dark Sapphire trousers\n",
      "burnt sienna trousers\n",
      "gunmetal blue blouse\n",
      "auburn blouse\n",
      "cerise blouse\n",
      "aqua blouse\n",
      "fuchsia blouse\n",
      "maple blouse\n",
      "Dark Sapphire blouse\n",
      "burnt sienna blouse\n",
      "gunmetal blue bandana\n",
      "auburn bandana\n",
      "cerise bandana\n",
      "aqua bandana\n",
      "fuchsia bandana\n",
      "maple bandana\n",
      "Dark Sapphire bandana\n",
      "burnt sienna bandana\n",
      "gunmetal blue cumber band\n",
      "auburn cumber band\n",
      "cerise cumber band\n",
      "aqua cumber band\n",
      "fuchsia cumber band\n",
      "maple cumber band\n",
      "Dark Sapphire cumber band\n",
      "burnt sienna cumber band\n",
      "gunmetal blue blazer\n",
      "auburn blazer\n",
      "cerise blazer\n",
      "aqua blazer\n",
      "fuchsia blazer\n",
      "maple blazer\n",
      "Dark Sapphire blazer\n",
      "burnt sienna blazer\n",
      "gunmetal blue vest\n",
      "auburn vest\n",
      "cerise vest\n",
      "aqua vest\n",
      "fuchsia vest\n",
      "maple vest\n",
      "Dark Sapphire vest\n",
      "burnt sienna vest\n",
      "gunmetal blue french beret\n",
      "auburn french beret\n",
      "cerise french beret\n",
      "aqua french beret\n",
      "fuchsia french beret\n",
      "maple french beret\n",
      "Dark Sapphire french beret\n",
      "burnt sienna french beret\n",
      "gunmetal blue scarf\n",
      "auburn scarf\n",
      "cerise scarf\n",
      "aqua scarf\n",
      "fuchsia scarf\n",
      "maple scarf\n",
      "Dark Sapphire scarf\n",
      "burnt sienna scarf\n",
      "gunmetal blue stole\n",
      "auburn stole\n",
      "cerise stole\n",
      "aqua stole\n",
      "fuchsia stole\n",
      "maple stole\n",
      "Dark Sapphire stole\n",
      "burnt sienna stole\n"
     ]
    }
   ],
   "source": [
    "couture = [\"trousers\", \"blouse\", \"bandana\", \"cumber band\", \"blazer\", \"vest\", \"french beret\", \"scarf\", \"stole\"]\n",
    "panettone =  {\"cerise\", \"fuchsia\", \"aqua\", \"maple\", \"auburn\", \"burnt sienna\", \"gunmetal blue\", \"Dark Sapphire\"}\n",
    "\n",
    "for c in couture:\n",
    "    for p in panettone:\n",
    "        print(p, c)"
   ]
  },
  {
   "cell_type": "code",
   "execution_count": 30,
   "metadata": {},
   "outputs": [
    {
     "name": "stdout",
     "output_type": "stream",
     "text": [
      "0\n",
      "1\n",
      "3\n",
      "6\n",
      "10\n",
      "15\n",
      "21\n",
      "28\n",
      "36\n",
      "45\n",
      "55\n",
      "66\n",
      "78\n",
      "91\n",
      "105\n",
      "120\n",
      "136\n",
      "153\n",
      "171\n",
      "190\n",
      "210\n",
      "231\n",
      "253\n",
      "276\n",
      "300\n",
      "325\n",
      "351\n",
      "378\n",
      "406\n",
      "435\n",
      "465\n",
      "496\n",
      "528\n",
      "561\n",
      "595\n",
      "630\n",
      "666\n",
      "703\n",
      "741\n",
      "780\n",
      "820\n",
      "861\n",
      "903\n",
      "946\n",
      "990\n",
      "1035\n",
      "1081\n",
      "1128\n",
      "1176\n",
      "1225\n",
      "1275\n",
      "1326\n",
      "1378\n",
      "1431\n",
      "1485\n",
      "1540\n",
      "1596\n",
      "1653\n",
      "1711\n",
      "1770\n",
      "1830\n",
      "1891\n",
      "1953\n",
      "2016\n",
      "2080\n",
      "2145\n",
      "2211\n",
      "2278\n",
      "2346\n",
      "2415\n",
      "2485\n",
      "2556\n",
      "2628\n",
      "2701\n",
      "2775\n",
      "2850\n",
      "2926\n",
      "3003\n",
      "3081\n",
      "3160\n",
      "3240\n",
      "3321\n",
      "3403\n",
      "3486\n",
      "3570\n",
      "3655\n",
      "3741\n",
      "3828\n",
      "3916\n",
      "4005\n",
      "4095\n",
      "4186\n",
      "4278\n",
      "4371\n",
      "4465\n",
      "4560\n",
      "4656\n",
      "4753\n",
      "4851\n",
      "4950\n"
     ]
    }
   ],
   "source": [
    "sum = 0 \n",
    "for num in range(0, 100):\n",
    "    sum = sum + num\n",
    "    print(sum)\n",
    "    "
   ]
  },
  {
   "cell_type": "code",
   "execution_count": 33,
   "metadata": {},
   "outputs": [
    {
     "name": "stdout",
     "output_type": "stream",
     "text": [
      "banana\n"
     ]
    }
   ],
   "source": [
    "6.\n",
    "fruit = [\"apple\", \"banana\", \"cherry\"]\n",
    "print(fruit[1])\n"
   ]
  },
  {
   "cell_type": "code",
   "execution_count": 49,
   "metadata": {},
   "outputs": [
    {
     "name": "stdout",
     "output_type": "stream",
     "text": [
      "['kiwi', 'banana', 'cherry']\n"
     ]
    }
   ],
   "source": [
    "7. \n",
    "fruit = [\"apple\", \"banana\", \"cherry\"]\n",
    "fruit[0] = \"kiwi\"\n",
    "print(fruit)"
   ]
  },
  {
   "cell_type": "code",
   "execution_count": 47,
   "metadata": {},
   "outputs": [
    {
     "name": "stdout",
     "output_type": "stream",
     "text": [
      "['apple', 'banana', 'cherry', 'orange']\n"
     ]
    }
   ],
   "source": [
    "8.\n",
    "fruit = [\"apple\", \"banana\", \"cherry\"]\n",
    "fruit.append(\"orange\")\n",
    "print(fruit)"
   ]
  },
  {
   "cell_type": "code",
   "execution_count": null,
   "metadata": {},
   "outputs": [],
   "source": [
    "9.\n",
    "fruit = [\"apple\", \"banana\", \"cherry\"]\n",
    "fruit.insert(1,\"lemon\")\n"
   ]
  },
  {
   "cell_type": "code",
   "execution_count": 60,
   "metadata": {},
   "outputs": [
    {
     "name": "stdout",
     "output_type": "stream",
     "text": [
      "['apple', 'cherry']\n"
     ]
    }
   ],
   "source": [
    "10.\n",
    "fruit = [\"apple\", \"banana\", \"cherry\"]\n",
    "fruit.remove(\"banana\")\n",
    "print(fruit)"
   ]
  },
  {
   "cell_type": "code",
   "execution_count": 68,
   "metadata": {},
   "outputs": [
    {
     "name": "stdout",
     "output_type": "stream",
     "text": [
      "kiwi\n",
      "melon\n"
     ]
    }
   ],
   "source": [
    "11.\n",
    "fruit = [\"apple\", \"banana\", \"cherry\", \"orange\", \"kiwi\", \"melon\", \"mango\"]\n",
    "print(fruit[-3])\n",
    "print(fruit[-2])\n"
   ]
  },
  {
   "cell_type": "code",
   "execution_count": 92,
   "metadata": {},
   "outputs": [
    {
     "name": "stdout",
     "output_type": "stream",
     "text": [
      "['cherry', 'orange', 'kiwi']\n"
     ]
    }
   ],
   "source": [
    "12. \n",
    "fruit = [\"apple\", \"banana\", \"cherry\", \"orange\", \"kiwi\", \"melon\", \"mango\"]\n",
    "print(fruit[2:5])\n",
    "\n",
    "\n"
   ]
  },
  {
   "cell_type": "code",
   "execution_count": 93,
   "metadata": {},
   "outputs": [
    {
     "name": "stdout",
     "output_type": "stream",
     "text": [
      "7\n"
     ]
    }
   ],
   "source": [
    "13. \n",
    "fruit = [\"apple\", \"banana\", \"cherry\", \"orange\", \"kiwi\", \"melon\", \"mango\"]\n",
    "print(len(fruit))\n"
   ]
  },
  {
   "cell_type": "code",
   "execution_count": 90,
   "metadata": {},
   "outputs": [
    {
     "name": "stdout",
     "output_type": "stream",
     "text": [
      "['mango', 'melon', 'kiwi', 'orange', 'cherry', 'banana', 'apple']\n"
     ]
    }
   ],
   "source": [
    "14. \n",
    "fruit = [\"apple\", \"banana\", \"cherry\", \"orange\", \"kiwi\", \"melon\", \"mango\"]\n",
    "fruit.reverse()\n",
    "print(fruit)\n",
    "\n"
   ]
  },
  {
   "cell_type": "code",
   "execution_count": 96,
   "metadata": {},
   "outputs": [],
   "source": [
    "15. \n",
    "import datetime as dt \n"
   ]
  },
  {
   "cell_type": "code",
   "execution_count": 109,
   "metadata": {},
   "outputs": [
    {
     "name": "stdout",
     "output_type": "stream",
     "text": [
      "2025-01-23 00:00:00\n"
     ]
    }
   ],
   "source": [
    "a = dt.datetime(2025, 1, 23)\n",
    "print(a)"
   ]
  },
  {
   "cell_type": "code",
   "execution_count": 116,
   "metadata": {},
   "outputs": [
    {
     "ename": "NameError",
     "evalue": "name 'Jada' is not defined",
     "output_type": "error",
     "traceback": [
      "\u001b[1;31m---------------------------------------------------------------------------\u001b[0m",
      "\u001b[1;31mNameError\u001b[0m                                 Traceback (most recent call last)",
      "Cell \u001b[1;32mIn[116], line 1\u001b[0m\n\u001b[1;32m----> 1\u001b[0m first_name \u001b[38;5;241m=\u001b[39m\u001b[43mJada\u001b[49m\n\u001b[0;32m      2\u001b[0m \u001b[38;5;28mprint\u001b[39m(\u001b[38;5;124m\"\u001b[39m\u001b[38;5;124mHi (first_name)!\u001b[39m\u001b[38;5;124m\"\u001b[39m)\n",
      "\u001b[1;31mNameError\u001b[0m: name 'Jada' is not defined"
     ]
    }
   ],
   "source": [
    "name = \" Jada \"\n",
    "\n",
    "print(\"Hi (first_name)!\")"
   ]
  }
 ],
 "metadata": {
  "kernelspec": {
   "display_name": "Python 3",
   "language": "python",
   "name": "python3"
  },
  "language_info": {
   "codemirror_mode": {
    "name": "ipython",
    "version": 3
   },
   "file_extension": ".py",
   "mimetype": "text/x-python",
   "name": "python",
   "nbconvert_exporter": "python",
   "pygments_lexer": "ipython3",
   "version": "3.13.1"
  }
 },
 "nbformat": 4,
 "nbformat_minor": 2
}
