{
 "cells": [
  {
   "cell_type": "markdown",
   "metadata": {},
   "source": [
    "Python Homework Section 4\n",
    "\n",
    "\n",
    "**1.What does one need to do to use a module?** \n",
    "\n",
    "_If we want to use code from a module or a library in our applications, we first need to import the respective module into our code-base. by using the import statement._\n",
    "\n",
    "\n",
    "**2.  Name a Module (not the DateTime Nodule) we looked at and write a line or 2 of code as an example using this module.**\n",
    "\n",
    "_random module \n",
    "import random \n",
    "j = random.randrange(2,99)\n",
    "print(j)_\n",
    "\n",
    "\n",
    "**3.  What is a benefit of using Exception handling?**\n",
    "\n",
    "_So when and error is raised in the try block, the except block will be executed. Without the try block, the program will crash. With this code device we can keep going past many errors._\n",
    "\n",
    "**4.  what are the 4 components used for Python Exception Handling?**\n",
    "\n",
    " _The try block lets you test a block of code for errors. - The except block lets you handle the error. -The else block lets you execute code when there is no error. -The finally block lets you execute code, regardless of the result of the try- and except blocks._\n",
    "\n",
    "\n",
    "**5.  NumPy arrays are like what Python data type?**\n",
    "\n",
    " _list_\n",
    "\n",
    "\n",
    "**6. What is one of the main benefits of using NumPy arrays.**\n",
    "\n",
    "\n",
    " _seamlessly and speedy integrate with a wide variety of databases_\n",
    "\n",
    "\n",
    "**7.  What is one of the main requirements about the 'dtype' of NumPy arrays?**\n",
    "\n",
    "\n",
    "_you can specifically change which data type you are using_\n",
    "\n",
    "\n",
    "**8. Of the 10 uses of NumPy, name 2.**\n",
    "\n",
    "\n",
    " _Numpy arrays Numby slicing_\n",
    "\n",
    "\n",
    "**9. Name one of the other libraries we'll use with NumPy?**\n",
    "\n",
    "_panda_\n",
    "\n",
    "\n",
    "**10.  What is the shape of NumPy arrays?**\n",
    "\n",
    "_The shape is a tuple of non-negative integers that specify the dimensions, length and size of each array (3,2,4)_\n",
    "\n",
    "\n",
    "**11.  What is a Tensor?**\n",
    "\n",
    "_3-d numpy array_\n",
    "\n",
    "\n",
    "**12. Name a reason why it's better using NumPy for Data Analysis than using a Python List?**\n",
    "\n",
    "_Less Memory - NumPy arrays occupy less memory as compared to lists Fast - NumPy arrays are faster compared to lists Convenient - it is convenient to work with NumPy Biggest difference between Python lists and NumPy arrays:- NumPy array elements are homogeneous -- of the same or a similar kind or nature_\n",
    "\n",
    "\n",
    "**13. When creating an \"empty\" array, where do the elements come from?**\n",
    "_It just means the array doesn't have its values initialized (i.e., they are unpredictable and depend on whatever happens to be in the memory allocated for the array_"
   ]
  },
  {
   "cell_type": "markdown",
   "metadata": {},
   "source": [
    "**1. Create an if statement: if 'age' is greater than or equal to 25, print \"Renting a car is more affordable\", however if 'age' is less than 25, print \"Renting a car is very expensive.\"**"
   ]
  },
  {
   "cell_type": "code",
   "execution_count": 56,
   "metadata": {},
   "outputs": [
    {
     "name": "stdout",
     "output_type": "stream",
     "text": [
      "Renting a car is very expensive.\n"
     ]
    }
   ],
   "source": [
    "\n",
    "age = 24\n",
    "if age > 25:\n",
    "    print('Renting a car is more affordable')\n",
    "else :\n",
    "    print('Renting a car is very expensive.')\n",
    "        "
   ]
  },
  {
   "cell_type": "markdown",
   "metadata": {},
   "source": [
    "**2. Create and chain an if-else statement: if 'age' is greater than or equal to 25, print \"Renting a car is more affordable.\" If 'age' is less than 25 but greater than or equal to 18, print \"Renting a car is very expensive.\" Finally, if age is less than 18, print \"You cannot legally rent a car.\"**"
   ]
  },
  {
   "cell_type": "code",
   "execution_count": 57,
   "metadata": {},
   "outputs": [
    {
     "name": "stdout",
     "output_type": "stream",
     "text": [
      "Renting a car is more affordable\n"
     ]
    }
   ],
   "source": [
    "\n",
    "age = 26\n",
    "if age > 25 :\n",
    "    print('Renting a car is more affordable')\n",
    "elif age < 25 and age >=18:\n",
    "    print('Renting a car is very expensive')\n",
    "else:\n",
    "    print('You cannot legally rent a car')"
   ]
  },
  {
   "cell_type": "markdown",
   "metadata": {},
   "source": [
    "**3. Loop over the following string to (1) count all the characters in the string and (2) print out all the vowels -- \"The quick brown fox jumps over the lazy dog\"**\n"
   ]
  },
  {
   "cell_type": "code",
   "execution_count": 58,
   "metadata": {},
   "outputs": [
    {
     "name": "stdout",
     "output_type": "stream",
     "text": [
      "e\n",
      "u\n",
      "i\n",
      "o\n",
      "o\n",
      "u\n",
      "o\n",
      "e\n",
      "e\n",
      "a\n",
      "o\n"
     ]
    },
    {
     "data": {
      "text/plain": [
       "43"
      ]
     },
     "execution_count": 58,
     "metadata": {},
     "output_type": "execute_result"
    }
   ],
   "source": [
    "\n",
    "animals = (\"The quick brown fox jumps over the lazy dog\")\n",
    "for letters in animals:\n",
    "    if letters in 'aeiou':\n",
    "        print(letters)\n",
    "len(animals)"
   ]
  },
  {
   "cell_type": "markdown",
   "metadata": {},
   "source": [
    "**4. Write a nested loop that prints out every piece of clothing from the couture list, in every fashionable color from the panettone set: couture = [\"trousers\", \"blouse\", \"bandana\", \"cumber band\", \"blazer\", \"vest\", \"french beret\", \"scarf\", \"stole\"] and panettone = {\"cerise\", \"fuchsia\", \"aqua\", \"maple\", \"auburn\", \"burnt sienna\", \"gunmetal blue\", \"Dark Sapphire\"}**"
   ]
  },
  {
   "cell_type": "code",
   "execution_count": 59,
   "metadata": {},
   "outputs": [
    {
     "name": "stdout",
     "output_type": "stream",
     "text": [
      "maple trousers\n",
      "auburn trousers\n",
      "Dark Sapphire trousers\n",
      "gunmetal blue trousers\n",
      "cerise trousers\n",
      "burnt sienna trousers\n",
      "aqua trousers\n",
      "fuchsia trousers\n",
      "maple blouse\n",
      "auburn blouse\n",
      "Dark Sapphire blouse\n",
      "gunmetal blue blouse\n",
      "cerise blouse\n",
      "burnt sienna blouse\n",
      "aqua blouse\n",
      "fuchsia blouse\n",
      "maple bandana\n",
      "auburn bandana\n",
      "Dark Sapphire bandana\n",
      "gunmetal blue bandana\n",
      "cerise bandana\n",
      "burnt sienna bandana\n",
      "aqua bandana\n",
      "fuchsia bandana\n",
      "maple cumber band\n",
      "auburn cumber band\n",
      "Dark Sapphire cumber band\n",
      "gunmetal blue cumber band\n",
      "cerise cumber band\n",
      "burnt sienna cumber band\n",
      "aqua cumber band\n",
      "fuchsia cumber band\n",
      "maple blazer\n",
      "auburn blazer\n",
      "Dark Sapphire blazer\n",
      "gunmetal blue blazer\n",
      "cerise blazer\n",
      "burnt sienna blazer\n",
      "aqua blazer\n",
      "fuchsia blazer\n",
      "maple vest\n",
      "auburn vest\n",
      "Dark Sapphire vest\n",
      "gunmetal blue vest\n",
      "cerise vest\n",
      "burnt sienna vest\n",
      "aqua vest\n",
      "fuchsia vest\n",
      "maple french beret\n",
      "auburn french beret\n",
      "Dark Sapphire french beret\n",
      "gunmetal blue french beret\n",
      "cerise french beret\n",
      "burnt sienna french beret\n",
      "aqua french beret\n",
      "fuchsia french beret\n",
      "maple scarf\n",
      "auburn scarf\n",
      "Dark Sapphire scarf\n",
      "gunmetal blue scarf\n",
      "cerise scarf\n",
      "burnt sienna scarf\n",
      "aqua scarf\n",
      "fuchsia scarf\n",
      "maple stole\n",
      "auburn stole\n",
      "Dark Sapphire stole\n",
      "gunmetal blue stole\n",
      "cerise stole\n",
      "burnt sienna stole\n",
      "aqua stole\n",
      "fuchsia stole\n"
     ]
    }
   ],
   "source": [
    "couture = [\"trousers\", \"blouse\", \"bandana\", \"cumber band\", \"blazer\", \"vest\", \"french beret\", \"scarf\", \"stole\"]\n",
    "panettone =  {\"cerise\", \"fuchsia\", \"aqua\", \"maple\", \"auburn\", \"burnt sienna\", \"gunmetal blue\", \"Dark Sapphire\"}\n",
    "\n",
    "for c in couture:\n",
    "    for p in panettone:\n",
    "        print(p, c)"
   ]
  },
  {
   "cell_type": "markdown",
   "metadata": {},
   "source": [
    "**5. Use range as a loop to calculate the sum of all the numbers from 1 to 100**"
   ]
  },
  {
   "cell_type": "code",
   "execution_count": 60,
   "metadata": {},
   "outputs": [
    {
     "name": "stdout",
     "output_type": "stream",
     "text": [
      "0\n",
      "1\n",
      "3\n",
      "6\n",
      "10\n",
      "15\n",
      "21\n",
      "28\n",
      "36\n",
      "45\n",
      "55\n",
      "66\n",
      "78\n",
      "91\n",
      "105\n",
      "120\n",
      "136\n",
      "153\n",
      "171\n",
      "190\n",
      "210\n",
      "231\n",
      "253\n",
      "276\n",
      "300\n",
      "325\n",
      "351\n",
      "378\n",
      "406\n",
      "435\n",
      "465\n",
      "496\n",
      "528\n",
      "561\n",
      "595\n",
      "630\n",
      "666\n",
      "703\n",
      "741\n",
      "780\n",
      "820\n",
      "861\n",
      "903\n",
      "946\n",
      "990\n",
      "1035\n",
      "1081\n",
      "1128\n",
      "1176\n",
      "1225\n",
      "1275\n",
      "1326\n",
      "1378\n",
      "1431\n",
      "1485\n",
      "1540\n",
      "1596\n",
      "1653\n",
      "1711\n",
      "1770\n",
      "1830\n",
      "1891\n",
      "1953\n",
      "2016\n",
      "2080\n",
      "2145\n",
      "2211\n",
      "2278\n",
      "2346\n",
      "2415\n",
      "2485\n",
      "2556\n",
      "2628\n",
      "2701\n",
      "2775\n",
      "2850\n",
      "2926\n",
      "3003\n",
      "3081\n",
      "3160\n",
      "3240\n",
      "3321\n",
      "3403\n",
      "3486\n",
      "3570\n",
      "3655\n",
      "3741\n",
      "3828\n",
      "3916\n",
      "4005\n",
      "4095\n",
      "4186\n",
      "4278\n",
      "4371\n",
      "4465\n",
      "4560\n",
      "4656\n",
      "4753\n",
      "4851\n",
      "4950\n"
     ]
    }
   ],
   "source": [
    "sum = 0 \n",
    "for num in range(0, 100):\n",
    "    sum = sum + num\n",
    "    print(sum)\n",
    "    "
   ]
  },
  {
   "cell_type": "markdown",
   "metadata": {},
   "source": [
    "**6. Print the second item in this fruits list. [\"apple\", \"banana\", \"cherry\"]**"
   ]
  },
  {
   "cell_type": "code",
   "execution_count": 61,
   "metadata": {},
   "outputs": [
    {
     "name": "stdout",
     "output_type": "stream",
     "text": [
      "banana\n"
     ]
    }
   ],
   "source": [
    "\n",
    "fruit = [\"apple\", \"banana\", \"cherry\"]\n",
    "print(fruit[1])\n"
   ]
  },
  {
   "cell_type": "markdown",
   "metadata": {},
   "source": [
    "**7. Change the value from \"apple\" to \"kiwi\", in the fruits list. [\"apple\", \"banana\", \"cherry\"]**"
   ]
  },
  {
   "cell_type": "code",
   "execution_count": 62,
   "metadata": {},
   "outputs": [
    {
     "name": "stdout",
     "output_type": "stream",
     "text": [
      "['kiwi', 'banana', 'cherry']\n"
     ]
    }
   ],
   "source": [
    "\n",
    "fruit = [\"apple\", \"banana\", \"cherry\"]\n",
    "fruit[0] = \"kiwi\"\n",
    "print(fruit)"
   ]
  },
  {
   "cell_type": "markdown",
   "metadata": {},
   "source": [
    "**8. Use the append method to add \"orange\" to the fruits list. [\"apple\", \"banana\", \"cherry\"]**"
   ]
  },
  {
   "cell_type": "code",
   "execution_count": 63,
   "metadata": {},
   "outputs": [
    {
     "name": "stdout",
     "output_type": "stream",
     "text": [
      "['apple', 'banana', 'cherry', 'orange']\n"
     ]
    }
   ],
   "source": [
    "\n",
    "fruit = [\"apple\", \"banana\", \"cherry\"]\n",
    "fruit.append(\"orange\")\n",
    "print(fruit)"
   ]
  },
  {
   "cell_type": "markdown",
   "metadata": {},
   "source": [
    "**9. Use the insert method to add \"lemon\" as the second item in the fruits list. [\"apple\", \"banana\", \"cherry\"]**"
   ]
  },
  {
   "cell_type": "code",
   "execution_count": 64,
   "metadata": {},
   "outputs": [],
   "source": [
    "\n",
    "fruit = [\"apple\", \"banana\", \"cherry\"]\n",
    "fruit.insert(1,\"lemon\")\n"
   ]
  },
  {
   "cell_type": "markdown",
   "metadata": {},
   "source": [
    "**10. Use the remove method to remove \"banana\" from the fruits list. [\"apple\", \"banana\", \"cherry\"]**"
   ]
  },
  {
   "cell_type": "code",
   "execution_count": 65,
   "metadata": {},
   "outputs": [
    {
     "name": "stdout",
     "output_type": "stream",
     "text": [
      "['apple', 'cherry']\n"
     ]
    }
   ],
   "source": [
    "10.\n",
    "fruit = [\"apple\", \"banana\", \"cherry\"]\n",
    "fruit.remove(\"banana\")\n",
    "print(fruit)"
   ]
  },
  {
   "cell_type": "markdown",
   "metadata": {},
   "source": [
    "**11. Use negative indexing to print the 3rd and 2nd to last items in the list. [\"apple\", \"banana\", \"cherry\", \"orange\", \"kiwi\", \"melon\", \"mango\"]**"
   ]
  },
  {
   "cell_type": "code",
   "execution_count": 66,
   "metadata": {},
   "outputs": [
    {
     "name": "stdout",
     "output_type": "stream",
     "text": [
      "kiwi\n",
      "melon\n"
     ]
    }
   ],
   "source": [
    "\n",
    "fruit = [\"apple\", \"banana\", \"cherry\", \"orange\", \"kiwi\", \"melon\", \"mango\"]\n",
    "print(fruit[-3])\n",
    "print(fruit[-2])\n"
   ]
  },
  {
   "cell_type": "markdown",
   "metadata": {},
   "source": [
    "**12. Use a range of indexes to print the third, fourth, and fifth item in the list. [\"apple\", \"banana\", \"cherry\", \"orange\", \"kiwi\", \"melon\", \"mango\"]**"
   ]
  },
  {
   "cell_type": "code",
   "execution_count": 67,
   "metadata": {},
   "outputs": [
    {
     "name": "stdout",
     "output_type": "stream",
     "text": [
      "['cherry', 'orange', 'kiwi']\n"
     ]
    }
   ],
   "source": [
    "\n",
    "fruit = [\"apple\", \"banana\", \"cherry\", \"orange\", \"kiwi\", \"melon\", \"mango\"]\n",
    "print(fruit[2:5])\n",
    "\n",
    "\n"
   ]
  },
  {
   "cell_type": "markdown",
   "metadata": {},
   "source": [
    "**13. Use the correct syntax to print the number of items in the list. [\"apple\", \"banana\", \"cherry\", \"orange\", \"kiwi\", \"melon\", \"mango\"]**"
   ]
  },
  {
   "cell_type": "code",
   "execution_count": 68,
   "metadata": {},
   "outputs": [
    {
     "name": "stdout",
     "output_type": "stream",
     "text": [
      "7\n"
     ]
    }
   ],
   "source": [
    "\n",
    "fruit = [\"apple\", \"banana\", \"cherry\", \"orange\", \"kiwi\", \"melon\", \"mango\"]\n",
    "print(len(fruit))\n"
   ]
  },
  {
   "cell_type": "markdown",
   "metadata": {},
   "source": [
    "**14. Use the correct syntax to sort this list in reverse order [\"apple\", \"banana\", \"cherry\", \"orange\", \"kiwi\", \"melon\", \"mango\"]**"
   ]
  },
  {
   "cell_type": "code",
   "execution_count": 69,
   "metadata": {},
   "outputs": [
    {
     "name": "stdout",
     "output_type": "stream",
     "text": [
      "['mango', 'melon', 'kiwi', 'orange', 'cherry', 'banana', 'apple']\n"
     ]
    }
   ],
   "source": [
    "14. \n",
    "fruit = [\"apple\", \"banana\", \"cherry\", \"orange\", \"kiwi\", \"melon\", \"mango\"]\n",
    "fruit.reverse()\n",
    "print(fruit)\n",
    "\n"
   ]
  },
  {
   "cell_type": "markdown",
   "metadata": {},
   "source": [
    "**15. Use the DateTime module to get Current Date and Time, and save it to a variable. Then extract just the Full month name form that variable.**"
   ]
  },
  {
   "cell_type": "code",
   "execution_count": 70,
   "metadata": {},
   "outputs": [],
   "source": [
    " \n",
    "import datetime as dt \n"
   ]
  },
  {
   "cell_type": "code",
   "execution_count": 71,
   "metadata": {},
   "outputs": [
    {
     "name": "stdout",
     "output_type": "stream",
     "text": [
      "2025-01-23 00:00:00\n"
     ]
    }
   ],
   "source": [
    "a = dt.datetime(2025, 1, 23)\n",
    "print(a)"
   ]
  },
  {
   "cell_type": "markdown",
   "metadata": {},
   "source": [
    "**16. Write a simple function that takes 2 parameters -- a first name and a day name.\n",
    "\n",
    "Set a default value for the day name of Sunday.\n",
    "Have the function print out a greeting -- using the parameters -- that says something like \"Hi first-name! Happy day-name!\". Remember to use the variables in the greeting to replace first-name and day-name.\n",
    "Invoke this function with 2 variables.\n",
    "Invoke this function with 1 variable only.**"
   ]
  },
  {
   "cell_type": "code",
   "execution_count": 72,
   "metadata": {},
   "outputs": [
    {
     "name": "stdout",
     "output_type": "stream",
     "text": [
      "Hi Jada Happy Thursday \n"
     ]
    }
   ],
   "source": [
    "first_name = \" Jada \"\n",
    "day_name = \" Thursday \"\n",
    "Into = \"Hi\" + first_name + \"Happy\" + day_name\n",
    "print(Into)"
   ]
  },
  {
   "cell_type": "markdown",
   "metadata": {},
   "source": [
    "**17. Write a block of code to handle one of the most common Python exception errors. Select one of the common errors from the curriculum section on Python Exception handling. Have your code example uses the try,except, else, and finally components.**"
   ]
  },
  {
   "cell_type": "code",
   "execution_count": 73,
   "metadata": {},
   "outputs": [
    {
     "name": "stdout",
     "output_type": "stream",
     "text": [
      "I will be turning 27 years old this year\n",
      "Last year I was 25 years old\n"
     ]
    }
   ],
   "source": [
    "try : \n",
    "    print(N)\n",
    "except :\n",
    "    print(\"I will be turning 27 years old this year\")\n",
    "else : \n",
    "    print(\"As of now, i am 26 years old\")\n",
    "finally : \n",
    "    print(\"Last year I was 25 years old\")"
   ]
  }
 ],
 "metadata": {
  "kernelspec": {
   "display_name": "Python 3",
   "language": "python",
   "name": "python3"
  },
  "language_info": {
   "codemirror_mode": {
    "name": "ipython",
    "version": 3
   },
   "file_extension": ".py",
   "mimetype": "text/x-python",
   "name": "python",
   "nbconvert_exporter": "python",
   "pygments_lexer": "ipython3",
   "version": "3.13.1"
  }
 },
 "nbformat": 4,
 "nbformat_minor": 2
}
